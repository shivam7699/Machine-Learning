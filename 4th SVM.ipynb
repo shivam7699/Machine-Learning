{
 "cells": [
  {
   "cell_type": "code",
   "execution_count": 1,
   "id": "85823f8d",
   "metadata": {},
   "outputs": [],
   "source": [
    "import pandas as pd\n",
    "import matplotlib.pyplot as plt"
   ]
  },
  {
   "cell_type": "code",
   "execution_count": 2,
   "id": "d59138d7",
   "metadata": {},
   "outputs": [],
   "source": [
    "df = pd.read_csv('../../datasets/Social_Network_Ads.csv')"
   ]
  },
  {
   "cell_type": "code",
   "execution_count": 3,
   "id": "6b080ac6",
   "metadata": {},
   "outputs": [],
   "source": [
    "X = df[['Age','EstimatedSalary']]\n",
    "y = df['Purchased']"
   ]
  },
  {
   "cell_type": "code",
   "execution_count": 4,
   "id": "0b1b89c2",
   "metadata": {},
   "outputs": [],
   "source": [
    "from sklearn.model_selection import train_test_split\n",
    "X_train,X_test,y_train,y_test = train_test_split(X,y,test_size=0.25, random_state=17)"
   ]
  },
  {
   "cell_type": "code",
   "execution_count": 6,
   "id": "1730d648",
   "metadata": {},
   "outputs": [],
   "source": [
    "from sklearn.preprocessing import MinMaxScaler\n",
    "scaler = MinMaxScaler()\n",
    "scaler.fit(X_train)\n",
    "X_train_scaled = scaler.transform(X_train)\n",
    "X_test_scaled = scaler.transform(X_test)"
   ]
  },
  {
   "cell_type": "code",
   "execution_count": 3,
   "id": "6dd83e11",
   "metadata": {},
   "outputs": [],
   "source": [
    "# Logistic Regression"
   ]
  },
  {
   "cell_type": "code",
   "execution_count": 8,
   "id": "be0299e1",
   "metadata": {},
   "outputs": [
    {
     "data": {
      "text/plain": [
       "0.85"
      ]
     },
     "execution_count": 8,
     "metadata": {},
     "output_type": "execute_result"
    }
   ],
   "source": [
    "from sklearn.linear_model import LogisticRegression\n",
    "model_log = LogisticRegression()\n",
    "model_log.fit(X_train_scaled,y_train)\n",
    "model_log.score(X_test_scaled,y_test)"
   ]
  },
  {
   "cell_type": "code",
   "execution_count": 2,
   "id": "505b06c0",
   "metadata": {},
   "outputs": [],
   "source": [
    "# KNN model"
   ]
  },
  {
   "cell_type": "code",
   "execution_count": 9,
   "id": "4c127d37",
   "metadata": {},
   "outputs": [
    {
     "data": {
      "text/plain": [
       "0.89"
      ]
     },
     "execution_count": 9,
     "metadata": {},
     "output_type": "execute_result"
    }
   ],
   "source": [
    "from sklearn.neighbors import KNeighborsClassifier\n",
    "model_knn = KNeighborsClassifier(n_neighbors=5)\n",
    "model_knn.fit(X_train_scaled,y_train)\n",
    "model_knn.score(X_test_scaled,y_test)"
   ]
  },
  {
   "cell_type": "code",
   "execution_count": 4,
   "id": "e049b9c8",
   "metadata": {},
   "outputs": [],
   "source": [
    "# sVM model"
   ]
  },
  {
   "cell_type": "code",
   "execution_count": 7,
   "id": "23dcbdb7",
   "metadata": {},
   "outputs": [
    {
     "data": {
      "text/plain": [
       "0.85"
      ]
     },
     "execution_count": 7,
     "metadata": {},
     "output_type": "execute_result"
    }
   ],
   "source": [
    "from sklearn.svm import SVC\n",
    "model_lin = SVC(kernel='linear')\n",
    "model_lin.fit(X_train_scaled,y_train)\n",
    "model_lin.score(X_test_scaled,y_test)"
   ]
  },
  {
   "cell_type": "code",
   "execution_count": 10,
   "id": "2693d067",
   "metadata": {},
   "outputs": [
    {
     "data": {
      "text/plain": [
       "0.89"
      ]
     },
     "execution_count": 10,
     "metadata": {},
     "output_type": "execute_result"
    }
   ],
   "source": [
    "model_poly = SVC(kernel='poly')\n",
    "model_poly.fit(X_train_scaled,y_train)\n",
    "model_poly.score(X_test_scaled,y_test)"
   ]
  },
  {
   "cell_type": "code",
   "execution_count": 11,
   "id": "11e03143",
   "metadata": {},
   "outputs": [
    {
     "data": {
      "text/plain": [
       "0.87"
      ]
     },
     "execution_count": 11,
     "metadata": {},
     "output_type": "execute_result"
    }
   ],
   "source": [
    "model_rbf = SVC(kernel='rbf')\n",
    "model_rbf.fit(X_train_scaled,y_train)\n",
    "model_rbf.score(X_test_scaled,y_test)"
   ]
  },
  {
   "cell_type": "code",
   "execution_count": null,
   "id": "b32a029f",
   "metadata": {},
   "outputs": [],
   "source": []
  },
  {
   "cell_type": "code",
   "execution_count": 26,
   "id": "705f531b",
   "metadata": {},
   "outputs": [
    {
     "data": {
      "text/plain": [
       "<matplotlib.collections.PathCollection at 0x191f47b41c0>"
      ]
     },
     "execution_count": 26,
     "metadata": {},
     "output_type": "execute_result"
    },
    {
     "data": {
      "image/png": "[encoded data removed]",
      "text/plain": [
       "<Figure size 432x288 with 1 Axes>"
      ]
     },
     "metadata": {
      "needs_background": "light"
     },
     "output_type": "display_data"
    }
   ],
   "source": [
    "# Predict using Lin kernel\n",
    "yp = model_lin.predict(grid)\n",
    "c0 = grid[yp==0]\n",
    "c1 = grid[yp==1]\n",
    "plt.scatter(c0[:,0], c0[:,1],c='red')\n",
    "plt.scatter(c1[:,0], c1[:,1],c='blue')\n",
    "\n",
    "# Plotting actual class from testing dataset\n",
    "c0 = X_test_scaled[y_test==0]\n",
    "c1 = X_test_scaled[y_test==1]\n",
    "plt.scatter(c0[:,0], c0[:,1],c='red')\n",
    "plt.scatter(c1[:,0], c1[:,1],c='blue')"
   ]
  },
  {
   "cell_type": "code",
   "execution_count": 29,
   "id": "cc737130",
   "metadata": {},
   "outputs": [
    {
     "data": {
      "text/plain": [
       "<matplotlib.collections.PathCollection at 0x191f5106a90>"
      ]
     },
     "execution_count": 29,
     "metadata": {},
     "output_type": "execute_result"
    },
    {
     "data": {
      "image/png": "[encoded data removed]",
      "text/plain": [
       "<Figure size 432x288 with 1 Axes>"
      ]
     },
     "metadata": {
      "needs_background": "light"
     },
     "output_type": "display_data"
    }
   ],
   "source": [
    "# Predict using Poly kernel\n",
    "yp = model_poly.predict(grid)\n",
    "c0 = grid[yp==0]\n",
    "c1 = grid[yp==1]\n",
    "plt.scatter(c0[:,0], c0[:,1],c='red',alpha=0.1)\n",
    "plt.scatter(c1[:,0], c1[:,1],c='blue',alpha=0.1)\n",
    "\n",
    "# Plotting actual class from testing dataset\n",
    "c0 = X_test_scaled[y_test==0]\n",
    "c1 = X_test_scaled[y_test==1]\n",
    "plt.scatter(c0[:,0], c0[:,1],c='red')\n",
    "plt.scatter(c1[:,0], c1[:,1],c='blue')"
   ]
  },
  {
   "cell_type": "code",
   "execution_count": 30,
   "id": "ef3a6766",
   "metadata": {},
   "outputs": [
    {
     "data": {
      "text/plain": [
       "<matplotlib.collections.PathCollection at 0x191f53d9dc0>"
      ]
     },
     "execution_count": 30,
     "metadata": {},
     "output_type": "execute_result"
    },
    {
     "data": {
      "image/png": "[encoded data removed]",
      "text/plain": [
       "<Figure size 432x288 with 1 Axes>"
      ]
     },
     "metadata": {
      "needs_background": "light"
     },
     "output_type": "display_data"
    }
   ],
   "source": [
    "# Predict using RBF kernel\n",
    "yp = model_rbf.predict(grid)\n",
    "c0 = grid[yp==0]\n",
    "c1 = grid[yp==1]\n",
    "plt.scatter(c0[:,0], c0[:,1],c='red', alpha=0.1)\n",
    "plt.scatter(c1[:,0], c1[:,1],c='blue', alpha=0.1)\n",
    "\n",
    "# Plotting actual class from testing dataset\n",
    "c0 = X_test_scaled[y_test==0]\n",
    "c1 = X_test_scaled[y_test==1]\n",
    "plt.scatter(c0[:,0], c0[:,1],c='red')\n",
    "plt.scatter(c1[:,0], c1[:,1],c='blue')"
   ]
  },
  {
   "cell_type": "code",
   "execution_count": 34,
   "id": "57959e88",
   "metadata": {},
   "outputs": [
    {
     "data": {
      "text/plain": [
       "29"
      ]
     },
     "execution_count": 34,
     "metadata": {},
     "output_type": "execute_result"
    }
   ],
   "source": [
    "yp = model_rbf.predict(X_test_scaled)\n",
    "sum((y_test==yp) & (yp==1))"
   ]
  },
  {
   "cell_type": "code",
   "execution_count": 42,
   "id": "ab3d50d1",
   "metadata": {},
   "outputs": [],
   "source": [
    "from sklearn.metrics import confusion_matrix, accuracy_score, precision_score, recall_score"
   ]
  },
  {
   "cell_type": "code",
   "execution_count": 43,
   "id": "a141722d",
   "metadata": {},
   "outputs": [
    {
     "name": "stdout",
     "output_type": "stream",
     "text": [
      "[[58 10]\n",
      " [ 3 29]]\n",
      "0.90625\n",
      "0.7435897435897436\n"
     ]
    }
   ],
   "source": [
    "yp = model_rbf.predict(X_test_scaled)\n",
    "print(confusion_matrix(y_test,yp))\n",
    "print(recall_score(y_test,yp))\n",
    "print(precision_score(y_test,yp))"
   ]
  },
  {
   "cell_type": "code",
   "execution_count": 37,
   "id": "8ec50e5a",
   "metadata": {},
   "outputs": [
    {
     "data": {
      "text/plain": [
       "0.87"
      ]
     },
     "execution_count": 37,
     "metadata": {},
     "output_type": "execute_result"
    }
   ],
   "source": [
    "accuracy_score(y_test,yp)"
   ]
  },
  {
   "cell_type": "code",
   "execution_count": 38,
   "id": "60f2a3a6",
   "metadata": {},
   "outputs": [
    {
     "data": {
      "text/plain": [
       "array([[62,  6],\n",
       "       [ 9, 23]], dtype=int64)"
      ]
     },
     "execution_count": 38,
     "metadata": {},
     "output_type": "execute_result"
    }
   ],
   "source": [
    "yp = model_lin.predict(X_test_scaled)\n",
    "confusion_matrix(y_test,yp)"
   ]
  },
  {
   "cell_type": "code",
   "execution_count": 39,
   "id": "e87a2af9",
   "metadata": {},
   "outputs": [
    {
     "data": {
      "text/plain": [
       "0.85"
      ]
     },
     "execution_count": 39,
     "metadata": {},
     "output_type": "execute_result"
    }
   ],
   "source": [
    "accuracy_score(y_test,yp)"
   ]
  },
  {
   "cell_type": "code",
   "execution_count": 40,
   "id": "2c21081a",
   "metadata": {},
   "outputs": [
    {
     "data": {
      "text/plain": [
       "array([[61,  7],\n",
       "       [ 4, 28]], dtype=int64)"
      ]
     },
     "execution_count": 40,
     "metadata": {},
     "output_type": "execute_result"
    }
   ],
   "source": [
    "yp = model_poly.predict(X_test_scaled)\n",
    "confusion_matrix(y_test,yp)"
   ]
  },
  {
   "cell_type": "code",
   "execution_count": 41,
   "id": "94231b79",
   "metadata": {},
   "outputs": [
    {
     "data": {
      "text/plain": [
       "0.89"
      ]
     },
     "execution_count": 41,
     "metadata": {},
     "output_type": "execute_result"
    }
   ],
   "source": [
    "accuracy_score(y_test,yp)"
   ]
  },
  {
   "cell_type": "code",
   "execution_count": null,
   "id": "9bc2c1e5",
   "metadata": {},
   "outputs": [],
   "source": []
  }
 ],
 "metadata": {
  "kernelspec": {
   "display_name": "Python 3 (ipykernel)",
   "language": "python",
   "name": "python3"
  },
  "language_info": {
   "codemirror_mode": {
    "name": "ipython",
    "version": 3
   },
   "file_extension": ".py",
   "mimetype": "text/x-python",
   "name": "python",
   "nbconvert_exporter": "python",
   "pygments_lexer": "ipython3",
   "version": "3.9.12"
  }
 },
 "nbformat": 4,
 "nbformat_minor": 5
}
