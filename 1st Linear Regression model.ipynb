{
 "cells": [
  {
   "cell_type": "code",
   "execution_count": 1,
   "id": "18c51b34",
   "metadata": {},
   "outputs": [],
   "source": [
    "import pandas as pd\n",
    "import matplotlib.pyplot as plt"
   ]
  },
  {
   "cell_type": "code",
   "execution_count": 2,
   "id": "39229432",
   "metadata": {},
   "outputs": [],
   "source": [
    "# Get the Data\n",
    "df = pd.read_csv('../../datasets/Salary_Data_1.csv')"
   ]
  },
  {
   "cell_type": "code",
   "execution_count": 4,
   "id": "d35dac47",
   "metadata": {},
   "outputs": [
    {
     "data": {
      "text/plain": [
       "(pandas.core.frame.DataFrame, pandas.core.series.Series)"
      ]
     },
     "execution_count": 4,
     "metadata": {},
     "output_type": "execute_result"
    }
   ],
   "source": [
    "# To find Dependent and Independent cols\n",
    "X = df[['YearsExperience']]\n",
    "y = df['Salary']\n",
    "type(X), type(y)"
   ]
  },
  {
   "cell_type": "code",
   "execution_count": 5,
   "id": "f0e21970",
   "metadata": {},
   "outputs": [],
   "source": [
    "# Import ML model\n",
    "from sklearn.linear_model import LinearRegression\n",
    "model = LinearRegression() # Create empty object of class LinearRegression"
   ]
  },
  {
   "cell_type": "code",
   "execution_count": 6,
   "id": "02bfdd82",
   "metadata": {},
   "outputs": [
    {
     "data": {
      "text/plain": [
       "LinearRegression()"
      ]
     },
     "execution_count": 6,
     "metadata": {},
     "output_type": "execute_result"
    }
   ],
   "source": [
    "# Model Training\n",
    "model.fit(X,y) # Gradient Descent"
   ]
  },
  {
   "cell_type": "code",
   "execution_count": 7,
   "id": "d82abf1b",
   "metadata": {},
   "outputs": [
    {
     "data": {
      "text/plain": [
       "array([9449.96232146])"
      ]
     },
     "execution_count": 7,
     "metadata": {},
     "output_type": "execute_result"
    }
   ],
   "source": [
    "model.coef_"
   ]
  },
  {
   "cell_type": "code",
   "execution_count": 8,
   "id": "873117b3",
   "metadata": {},
   "outputs": [
    {
     "data": {
      "text/plain": [
       "25792.20019866871"
      ]
     },
     "execution_count": 8,
     "metadata": {},
     "output_type": "execute_result"
    }
   ],
   "source": [
    "model.intercept_"
   ]
  },
  {
   "cell_type": "code",
   "execution_count": 9,
   "id": "2dd117ba",
   "metadata": {},
   "outputs": [
    {
     "data": {
      "text/plain": [
       "array([73042.01180594])"
      ]
     },
     "execution_count": 9,
     "metadata": {},
     "output_type": "execute_result"
    }
   ],
   "source": [
    "model.predict([[5]])"
   ]
  },
  {
   "cell_type": "code",
   "execution_count": 10,
   "id": "23b00e16",
   "metadata": {},
   "outputs": [
    {
     "data": {
      "text/plain": [
       "array([ 25792.20019867,  73042.01180594, 120291.82341322])"
      ]
     },
     "execution_count": 10,
     "metadata": {},
     "output_type": "execute_result"
    }
   ],
   "source": [
    "q = [[0],[5],[10]]\n",
    "model.predict(q)"
   ]
  },
  {
   "cell_type": "code",
   "execution_count": 13,
   "id": "4990da3e",
   "metadata": {},
   "outputs": [],
   "source": [
    "y_pre = model.predict(X)\n",
    "y_act = y"
   ]
  },
  {
   "cell_type": "code",
   "execution_count": 19,
   "id": "478ff6d7",
   "metadata": {},
   "outputs": [
    {
     "data": {
      "text/plain": [
       "31270951.722280968"
      ]
     },
     "execution_count": 19,
     "metadata": {},
     "output_type": "execute_result"
    }
   ],
   "source": [
    "sum((y_act-y_pre)**2)/30"
   ]
  },
  {
   "cell_type": "code",
   "execution_count": 22,
   "id": "853652b6",
   "metadata": {},
   "outputs": [
    {
     "data": {
      "text/plain": [
       "4644.20128944354"
      ]
     },
     "execution_count": 22,
     "metadata": {},
     "output_type": "execute_result"
    }
   ],
   "source": [
    "sum(abs(y_act-y_pre))/30"
   ]
  },
  {
   "cell_type": "code",
   "execution_count": 23,
   "id": "28022324",
   "metadata": {},
   "outputs": [],
   "source": [
    "from sklearn.metrics import mean_squared_error, mean_absolute_error"
   ]
  },
  {
   "cell_type": "code",
   "execution_count": 24,
   "id": "2740541c",
   "metadata": {},
   "outputs": [
    {
     "data": {
      "text/plain": [
       "31270951.722280968"
      ]
     },
     "execution_count": 24,
     "metadata": {},
     "output_type": "execute_result"
    }
   ],
   "source": [
    "mean_squared_error(y_act,y_pre)"
   ]
  },
  {
   "cell_type": "code",
   "execution_count": 25,
   "id": "e5de9455",
   "metadata": {},
   "outputs": [
    {
     "data": {
      "text/plain": [
       "4644.2012894435375"
      ]
     },
     "execution_count": 25,
     "metadata": {},
     "output_type": "execute_result"
    }
   ],
   "source": [
    "mean_absolute_error(y_act,y_pre)"
   ]
  },
  {
   "cell_type": "code",
   "execution_count": null,
   "id": "12400660",
   "metadata": {},
   "outputs": [],
   "source": []
  },
  {
   "cell_type": "code",
   "execution_count": 26,
   "id": "f6392200",
   "metadata": {},
   "outputs": [],
   "source": [
    "import numpy as np"
   ]
  },
  {
   "cell_type": "code",
   "execution_count": 36,
   "id": "1f6f5e23",
   "metadata": {},
   "outputs": [],
   "source": [
    "X = np.random.randint(0,100,50)/50\n",
    "y = X*2.5 + np.random.rand(50)/2 + 5"
   ]
  },
  {
   "cell_type": "code",
   "execution_count": 37,
   "id": "739696e4",
   "metadata": {},
   "outputs": [
    {
     "data": {
      "text/plain": [
       "array([1.28, 1.  , 1.1 , 0.82, 0.74, 0.82, 1.1 , 0.98, 1.36, 1.58, 1.04,\n",
       "       1.76, 0.1 , 1.18, 1.36, 0.92, 0.86, 1.78, 0.48, 1.02, 1.82, 1.96,\n",
       "       1.94, 1.6 , 0.78, 0.66, 0.1 , 0.98, 0.66, 1.62, 0.3 , 1.74, 0.22,\n",
       "       0.8 , 1.04, 1.92, 0.12, 1.64, 0.38, 0.62, 0.64, 0.98, 1.04, 1.94,\n",
       "       1.22, 0.26, 1.84, 1.04, 0.88, 0.96])"
      ]
     },
     "execution_count": 37,
     "metadata": {},
     "output_type": "execute_result"
    }
   ],
   "source": [
    "X"
   ]
  },
  {
   "cell_type": "code",
   "execution_count": 38,
   "id": "0196b439",
   "metadata": {},
   "outputs": [
    {
     "data": {
      "text/plain": [
       "array([ 8.62350523,  7.61985531,  8.03955947,  7.28030988,  7.09310372,\n",
       "        7.26416065,  7.97649474,  7.58862303,  8.4268345 ,  8.98816106,\n",
       "        7.7261975 ,  9.80035969,  5.3166698 ,  8.14851716,  8.88011083,\n",
       "        7.48125701,  7.5214231 ,  9.57722074,  6.42109257,  7.76499312,\n",
       "        9.89072657, 10.1598542 , 10.15932267,  9.06410705,  7.08600306,\n",
       "        6.96894177,  5.28793014,  7.72898906,  6.83587074,  9.41406637,\n",
       "        5.75708734,  9.55511145,  5.82846191,  7.15244475,  7.7290756 ,\n",
       "        9.95737092,  5.52457144,  9.46625672,  6.42314805,  6.92282754,\n",
       "        6.72245126,  7.94146301,  7.69465794, 10.26828709,  8.37949418,\n",
       "        5.66791034,  9.69955626,  7.99659845,  7.36897974,  7.58126127])"
      ]
     },
     "execution_count": 38,
     "metadata": {},
     "output_type": "execute_result"
    }
   ],
   "source": [
    "y"
   ]
  },
  {
   "cell_type": "code",
   "execution_count": 39,
   "id": "ac85a321",
   "metadata": {},
   "outputs": [],
   "source": [
    "df = pd.DataFrame({'col1':X, 'col2':y})"
   ]
  },
  {
   "cell_type": "code",
   "execution_count": 40,
   "id": "9ccde49d",
   "metadata": {},
   "outputs": [],
   "source": [
    "df.to_csv('demo.csv', index=False)"
   ]
  },
  {
   "cell_type": "code",
   "execution_count": null,
   "id": "81f39520",
   "metadata": {},
   "outputs": [],
   "source": []
  }
 ],
 "metadata": {
  "kernelspec": {
   "display_name": "Python 3 (ipykernel)",
   "language": "python",
   "name": "python3"
  },
  "language_info": {
   "codemirror_mode": {
    "name": "ipython",
    "version": 3
   },
   "file_extension": ".py",
   "mimetype": "text/x-python",
   "name": "python",
   "nbconvert_exporter": "python",
   "pygments_lexer": "ipython3",
   "version": "3.9.12"
  }
 },
 "nbformat": 4,
 "nbformat_minor": 5
}
